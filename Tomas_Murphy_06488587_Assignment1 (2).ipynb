{
 "cells": [
  {
   "cell_type": "markdown",
   "metadata": {},
   "source": [
    "# Slot Machine\n",
    "\n",
    "### First import emoji and choice\n",
    "### Assign the variable 'faces' a list with the 3 fruit emoji. We don't want it to be an instance variable as it would be unnecessarily called 3 times."
   ]
  },
  {
   "cell_type": "code",
   "execution_count": null,
   "metadata": {},
   "outputs": [],
   "source": [
    "import emoji\n",
    "from random import choice\n",
    "\n",
    "faces = [emoji.emojize(':red_apple:'),\n",
    "         emoji.emojize(':pear:'),\n",
    "         emoji.emojize(':tangerine:')\n",
    "         ]"
   ]
  },
  {
   "cell_type": "markdown",
   "metadata": {},
   "source": [
    "### Define the Purse class, initialising money to 10, using name mangling on money, and the functions 'debit' and 'credit' to change the money variable. get_balance returns the value of the money variable."
   ]
  },
  {
   "cell_type": "code",
   "execution_count": null,
   "metadata": {},
   "outputs": [],
   "source": [
    "class Purse:\n",
    "        def __init__(self):\n",
    "            self.__money = 10\n",
    "\n",
    "        def debit(self, amount):\n",
    "            self.__money -= amount\n",
    "\n",
    "        def credit(self, amount):\n",
    "            self.__money += amount\n",
    "\n",
    "        def get_balance(self):\n",
    "            return self.__money\n"
   ]
  },
  {
   "cell_type": "markdown",
   "metadata": {},
   "source": [
    "### Define the column class, initializing face to \"\". Define the change_face function, which uses 'choice' to assign a random emoji from faces. get_face returns this emoji. "
   ]
  },
  {
   "cell_type": "code",
   "execution_count": null,
   "metadata": {},
   "outputs": [],
   "source": [
    "class Column:\n",
    "        def __init__(self):\n",
    "            self.face = \"\"\n",
    "\n",
    "        def change_face(self):\n",
    "            self.face = choice(faces)\n",
    "\n",
    "        def get_face(self):\n",
    "            return self.face"
   ]
  },
  {
   "cell_type": "markdown",
   "metadata": {},
   "source": [
    "#### Define the Slot() class, and give it a required parameter of input_purse. Initialize it with 3 columns, assign self.mypurse the value of the passed in input_purse, set bet to 0, and call the take_bet() function.\n",
    "\n",
    "\n",
    "#### Define the take_bet function, which takes a user inputted string and assigns it to bet. \n",
    "\n",
    "#### If bet = N, then quit the game (capital N only).\n",
    "\n",
    "#### If bet is not = N, then try convert it into an int (as per specifications, so user can't input floats like 2.5). If it fails, then it's invalid input, like a float or string (excluding N) and we run take_bet again to give the user another chance to input something valid.\n",
    "\n",
    "#### If it is valid, then check if the bet is above 2 and not above the amount in the purse. If either is the case, run take_bet again to allow another input.\n",
    "\n",
    "#### If the bet passes these conditions, call the pull_handle function.\n",
    "\n",
    "#### Define the pull_handle function, which calls the change_face() method on all 3 columns. Call show_slot().\n",
    "\n",
    "#### Define the show_slot class, which prints the 3 emoji stored in the columns. Call score_slot().\n",
    "\n",
    "##### Define the score_slot class, which will: \n",
    "\n",
    "1. On 3 matching fruits credit the purse by the same amount as the bet, and display a score of bet by 2.\n",
    "\n",
    "2. On 2 matching fruits credit the purse by half the amount of the bet, and display a score of bet by 1.5\n",
    "\n",
    "3. On no matching fruits, debit the purse by the amount of the bet, and show a score of 0. If the purse has less than 2 money, end the game. Otherwise, call take_bet() again."
   ]
  },
  {
   "cell_type": "code",
   "execution_count": null,
   "metadata": {},
   "outputs": [],
   "source": [
    "class Slot():\n",
    "\n",
    "        \n",
    "        def __init__(self, input_purse):\n",
    "            self.column1 = Column()\n",
    "            self.column2 = Column()\n",
    "            self.column3 = Column()\n",
    "            self.mypurse = input_purse\n",
    "            self.bet = 0\n",
    "            self.take_bet()\n",
    "\n",
    "        def take_bet(self):\n",
    "            self.bet = input(\"How much do you bet? \")\n",
    "            if self.bet == \"N\":\n",
    "                print(\"Thanks for playing!\")\n",
    "\n",
    "            if self.bet != \"N\":\n",
    "                try:\n",
    "                    self.bet = int(self.bet)\n",
    "                except ValueError:\n",
    "                    self.take_bet()\n",
    "\n",
    "                if self.bet < 2:\n",
    "                    print(\"Minimum bet is 2!\")\n",
    "                    self.take_bet()\n",
    "\n",
    "                elif self.bet > self.mypurse.get_balance():\n",
    "                    print(\"You don't have enough money to make that bet! You only have:\", self.mypurse.get_balance())\n",
    "                    self.take_bet()\n",
    "                else:\n",
    "                    self.pull_handle()\n",
    "\n",
    "        def pull_handle(self):\n",
    "            self.column1.change_face()\n",
    "            self.column2.change_face()\n",
    "            self.column3.change_face()\n",
    "            self.show_slot()\n",
    "\n",
    "        def show_slot(self):\n",
    "            print(self.column1.get_face(), \" \", self.column2.get_face(), \" \", self.column3.get_face())\n",
    "            self.score_slot()\n",
    "\n",
    "        def score_slot(self):\n",
    "            if self.column1.get_face() == self.column2.get_face() and self.column2.get_face() == self.column3.get_face():\n",
    "                self.mypurse.credit(self.bet)\n",
    "                print(\"You score\", self.bet*2, \"You have:\", self.mypurse.get_balance())\n",
    "                self.take_bet()\n",
    "\n",
    "            elif self.column1.get_face() == self.column2.get_face() or self.column1.get_face() == self.column3.get_face() or self.column2.get_face() == self.column3.get_face():\n",
    "                self.mypurse.credit(self.bet/2)\n",
    "                print(\"You score\", self.bet*1.5, \"You have:\", self.mypurse.get_balance())\n",
    "                self.take_bet()\n",
    "\n",
    "            else:\n",
    "                self.mypurse.debit(self.bet)\n",
    "                print(\"You score\", 0, \"You have:\", self.mypurse.get_balance())\n",
    "                if self.mypurse.get_balance() < 2:\n",
    "                    print(\"You don't have enough money for another bet! You have\", self.mypurse.get_balance(), \", thanks for playing!\")\n",
    "                else:\n",
    "                    self.take_bet()\n",
    "\n"
   ]
  },
  {
   "cell_type": "markdown",
   "metadata": {},
   "source": [
    "### Define the run_slot_machine() function, which triggers the entire program to run. Create an instance of Purse(), and an instance of Slot(), with the purse instance being passed into the slot instance."
   ]
  },
  {
   "cell_type": "code",
   "execution_count": null,
   "metadata": {},
   "outputs": [],
   "source": [
    "def run_slot_machine():\n",
    "    print(\"====== SLOT MACHINE ======\")\n",
    "    print(\"Minimum bet is 2. Type 'N' to exit.\")\n",
    "    print(\"You have 10.00\\n\")\n",
    "    mypurse = Purse()\n",
    "    mySlot = Slot(mypurse)\n"
   ]
  },
  {
   "cell_type": "markdown",
   "metadata": {},
   "source": [
    "## Run the program."
   ]
  },
  {
   "cell_type": "code",
   "execution_count": null,
   "metadata": {},
   "outputs": [],
   "source": [
    "run_slot_machine()"
   ]
  },
  {
   "cell_type": "code",
   "execution_count": null,
   "metadata": {},
   "outputs": [],
   "source": [
    "\n"
   ]
  },
  {
   "cell_type": "code",
   "execution_count": null,
   "metadata": {},
   "outputs": [],
   "source": []
  }
 ],
 "metadata": {
  "kernelspec": {
   "display_name": "Python 3",
   "language": "python",
   "name": "python3"
  },
  "language_info": {
   "codemirror_mode": {
    "name": "ipython",
    "version": 3
   },
   "file_extension": ".py",
   "mimetype": "text/x-python",
   "name": "python",
   "nbconvert_exporter": "python",
   "pygments_lexer": "ipython3",
   "version": "3.7.0"
  }
 },
 "nbformat": 4,
 "nbformat_minor": 2
}
