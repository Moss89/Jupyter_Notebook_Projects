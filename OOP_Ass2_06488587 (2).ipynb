{
 "cells": [
  {
   "cell_type": "markdown",
   "metadata": {},
   "source": [
    "### Import the emoji from a text file, and add it to a dictionary"
   ]
  },
  {
   "cell_type": "code",
   "execution_count": null,
   "metadata": {},
   "outputs": [],
   "source": [
    "import emoji\n",
    "imageDict = dict()\n",
    "fin = open('emoji_names.txt',\"r\")\n",
    "lines = fin.readlines()\n",
    "# Utilizing the \"Pythonic Way\" for the for loop\n",
    "for i, el in enumerate(lines):\n",
    "    #Adding to the dictionary\n",
    "    imageDict[i+1] = emoji.emojize(el.strip())\n",
    "    print(i+1,imageDict[i+1],end=' ')\n",
    "\n",
    "# Importing random for randint used in the \"randomizer()\" function\n",
    "import random"
   ]
  },
  {
   "cell_type": "markdown",
   "metadata": {},
   "source": [
    "### Print Dobble identifiers\n",
    "This code will print valid image ids for Dobble card decks of different sizes.  \n",
    "The number of images on a card must be a prime number + 1. "
   ]
  },
  {
   "cell_type": "code",
   "execution_count": null,
   "metadata": {
    "scrolled": true
   },
   "outputs": [],
   "source": [
    "# nIm - 1 must be prime\n",
    "# Cards must have 3, 4, 6 or 8 images\n",
    "mydeck = {}\n",
    "#Empty set to hold the emoji\n",
    "myset = set()\n",
    "# Set to 8 as we need 8 emoji\n",
    "nIm = 8\n",
    "n = nIm - 1\n",
    "r = range(n)\n",
    "rp1 = range(n+1)\n",
    "c = 0\n",
    "\n",
    "c += 1\n",
    "print('Card %2d:' % c, end='')\n",
    "for i in rp1:\n",
    "    i+=1\n",
    "    \n",
    "    # Add the emoji related to the key with the value i to our set\n",
    "    if i in imageDict:\n",
    "        for elem in imageDict[i]:\n",
    "            print(elem, end = '')\n",
    "            myset.add(elem)\n",
    "\n",
    "# Add our set to our dictionary with c as the card number, and then empty the set\n",
    "mydeck[c]=myset\n",
    "print()\n",
    "myset = set()\n",
    "\n",
    "# n following cards\n",
    "for j in r:\n",
    "    c = c+1\n",
    "    print('Card %2d:' % c, end='')\n",
    "    if 1 in imageDict:\n",
    "            for elem in imageDict[1]:\n",
    "                print(elem, end='')\n",
    "                myset.add(elem)\n",
    "    for k in r:\n",
    "        output = n+2 + n*j +k\n",
    "        if output in imageDict:\n",
    "            for elem in imageDict[output]:\n",
    "                print(elem, end = '')\n",
    "                myset.add(elem)\n",
    "        mydeck[c] = myset\n",
    "    myset = set()\n",
    "    print()\n",
    "\n",
    "\n",
    "for i in r:\n",
    "    for j in r:\n",
    "        c = c+1\n",
    "        print('Card %2d:' % c, end='')\n",
    "        new_i = i+2\n",
    "        if new_i in imageDict:\n",
    "            for elem in imageDict[new_i]:\n",
    "                print(elem, end = '')\n",
    "                myset.add(elem)\n",
    "        for k in r:\n",
    "            output = ((n+1 +n*k + (i*k+j) % n)+1)\n",
    "            if output in imageDict:\n",
    "                for elem in imageDict[output]:\n",
    "                    print(elem, end = '')\n",
    "                    myset.add(elem)\n",
    "            mydeck[c] = myset\n",
    "        myset = set()\n",
    "        print()\n",
    "        \n",
    "# Print the full deck        \n",
    "print(mydeck)"
   ]
  },
  {
   "cell_type": "markdown",
   "metadata": {},
   "source": [
    "### 2 for loops were used to compare every card against each other. The intersection method was chosen, and if the length of the stored intersection isn't 1, then the deck is invalid. There is also a check for verbose == True in kwargs."
   ]
  },
  {
   "cell_type": "code",
   "execution_count": null,
   "metadata": {},
   "outputs": [],
   "source": [
    "def check_validity(deck, **kwargs):\n",
    "    valid = True\n",
    "    my_intersection = []\n",
    "    \n",
    "    # For loops i and j, with deck[i] and deck[j] intersection stored in a list. \n",
    "    for i in range(1, len(mydeck)+1):\n",
    "        for j in  range(i+1, len(mydeck)+1):\n",
    "                my_intersection.append(mydeck[i].intersection(mydeck[j]))\n",
    "               # If the length of the list isn't 1, valid = false\n",
    "                if len(my_intersection) != 1:\n",
    "                    valid = False\n",
    "                # If the keyword and value pair verbose = True has been entered, print the output for each pair.\n",
    "                if \"verbose\" in kwargs:\n",
    "                    if kwargs[\"verbose\"] == True:\n",
    "                        print(\"The matching image between\", i, \"and\", j, \"is:\", my_intersection)\n",
    "                my_intersection = []                    \n",
    "    return valid    "
   ]
  },
  {
   "cell_type": "code",
   "execution_count": null,
   "metadata": {},
   "outputs": [],
   "source": [
    "# Left these two function calls in to make it easier to TAs to test\n",
    "# check_validity(mydeck, verbose = True)"
   ]
  },
  {
   "cell_type": "code",
   "execution_count": null,
   "metadata": {},
   "outputs": [],
   "source": [
    "# check_validity(mydeck)"
   ]
  },
  {
   "cell_type": "markdown",
   "metadata": {},
   "source": [
    "### The DobbleCard class is kept simple, with one parameter, an int, which determines which emoji the card will get. Then there is a getter to return the card. "
   ]
  },
  {
   "cell_type": "code",
   "execution_count": null,
   "metadata": {},
   "outputs": [],
   "source": [
    "class DobbleCard:\n",
    "    # Takes an int, which equals to a keyword in our 57 card deck. The card gets the values (emoji).\n",
    "    def __init__(self, num):\n",
    "        self.card_num = mydeck[num]\n",
    "    # Getter to return the card\n",
    "    def images(self):\n",
    "        return self.card_num\n",
    "            "
   ]
  },
  {
   "cell_type": "markdown",
   "metadata": {},
   "source": [
    "### Getters were added so as to adhere to encapsulation principles. The assumption was made that th number of cards equalled to the number of cards that would be used in the game, rather than how many rounds would be played i.e 5 cards equals 4 rounds, as round 1 uses 2 new cards, and each subsequent round only adds one new card. \n",
    "\n",
    "### The variable \"chosen_nums\" was made a dictionary to support the line \"while random_num in chosen_nums:\", which would have been more verbose with a list.\n",
    "\n",
    "### The print statement used a slice to further randomize the emoji, so that when a card is played again in the next round, the emoji aren't in the same positions, making it more fun.\n",
    "\n",
    "### The number of cards left to play is also printed, to improve the player experience."
   ]
  },
  {
   "cell_type": "code",
   "execution_count": null,
   "metadata": {},
   "outputs": [],
   "source": [
    "class DobbleDeck:\n",
    "   \n",
    "    def __init__(self):\n",
    "        self.__game_deck = []\n",
    "        self.__num_start_cards = 0\n",
    "        self.__A_score = 0\n",
    "        self.__B_score = 0\n",
    "        self.__draw_score = 0\n",
    "\n",
    "# Getters and setters for score info\n",
    "    def cards_left(self):\n",
    "        return len(self.__game_deck)\n",
    "    \n",
    "    def return_a_score(self):\n",
    "        return self.__A_score\n",
    "    \n",
    "    def return_b_score(self):\n",
    "        return self.__B_score\n",
    "    \n",
    "    def return_draw_score(self):\n",
    "        return self.__draw_score\n",
    "    \n",
    "    def inc_a_score(self):\n",
    "        self.__A_score += 1\n",
    "    \n",
    "    def inc_b_score(self):\n",
    "        self.__B_score += 1\n",
    "    \n",
    "    def inc_draw_score(self):\n",
    "        self.__draw_score += 1\n",
    "\n",
    "    # Add cards\n",
    "    def add_card(self):\n",
    "        while(True):\n",
    "            # Ask user for input\n",
    "            self.__num_start_cards = input(\"How many cards do you want to play?  \")\n",
    "            try:\n",
    "            # Test if it's an int, if not, continue\n",
    "                self.__num_start_cards = int(self.__num_start_cards)\n",
    "            except ValueError:\n",
    "                continue\n",
    "            # spacing\n",
    "            print(\"\")\n",
    "            \n",
    "            # Ensure correct range\n",
    "            if self.__num_start_cards < 2 or self.__num_start_cards > 57:\n",
    "                print(\"You must choose between 2 and 57 cards inclusive!\")\n",
    "                self.__num_start_cards = 0\n",
    "                continue\n",
    "            \n",
    "            # Dictionary to score card numbers which have already been chosen. \n",
    "            chosen_nums = {}\n",
    "            # for in the range of the user inputted cards, create an instance of DobbleCard.\n",
    "            for i in range(self.__num_start_cards):\n",
    "               \n",
    "                # random number to create card with.\n",
    "                random_num = randomizer()\n",
    "                # If the number has already been returned previously, try again\n",
    "                while random_num in chosen_nums:\n",
    "                    random_num = randomizer()\n",
    "                # Placeholder value for the value    \n",
    "                chosen_nums[random_num] = \"DVAL\"\n",
    "                \n",
    "                myDobble = DobbleCard(random_num)\n",
    "                # add card to our new deck list\n",
    "                self.__game_deck.append(myDobble)\n",
    "                # As we play two cards at the start of the game, we reduce the number of cards by one now\n",
    "                # so that when we remove a card for the first time the card count will be -2.\n",
    "            self.__num_start_cards -= 1\n",
    "            break\n",
    "            \n",
    "    def play_card(self):\n",
    "        # Get the first 2 cards in our list\n",
    "        self.card1 = list(self.__game_deck[0].images())\n",
    "        self.card2 = list(self.__game_deck[1].images())\n",
    "        \n",
    "        # Print them in an aesthetically pleasing manner, and further scramble the emoji so the card that's played\n",
    "        # twice will be in a different order each time.\n",
    "        \n",
    "        print(\"  \".join(self.card1[3:6]), \"\\t\", \"   \".join(self.card2[5:8]))\n",
    "        print(\"  \".join(self.card1[0:3]), \"\\t\", \"   \".join(self.card2[2:5]))\n",
    "        print(\"  \".join(self.card1[6:8]), \"  \\t\", \"   \".join(self.card2[0:2]))\n",
    "        \n",
    "    def remove_card(self):\n",
    "        # Reduce card count by 1\n",
    "        self.__num_start_cards -= 1\n",
    "        print(\"Cards left to play:\", self.__num_start_cards, \"\\n\\n\")\n",
    "        # Remove the 1st card in the list\n",
    "        self.__game_deck.pop(0) \n"
   ]
  },
  {
   "cell_type": "markdown",
   "metadata": {},
   "source": [
    "### The show_score and randomizer functions were made standalone so as not to make the DobbleDeck too complex/messy. \n",
    "\n",
    "### It was possible to leave out counting the draw score and just declaring a draw if the A and B scores are equal, but displaying the amount of draws seemed like the more useful way for the player to keep track of how the game was progressing."
   ]
  },
  {
   "cell_type": "code",
   "execution_count": null,
   "metadata": {},
   "outputs": [],
   "source": [
    "def show_score(deck): \n",
    "        # Ask the user who won\n",
    "        winner = input(\"\\n\\nWho won, A or B? 'D' or 'd' to draw:  \")\n",
    "        #  Increase score based on input\n",
    "        if winner == \"A\" or winner == \"a\":\n",
    "                deck.inc_a_score()\n",
    "                print(\"A:\", deck.return_a_score(), \"B:\", deck.return_b_score(), \"Draw:\", deck.return_draw_score())\n",
    "        elif winner == \"B\" or winner == \"b\":\n",
    "                deck.inc_b_score()\n",
    "                print(\"A:\", deck.return_a_score(), \"B:\", deck.return_b_score(), \"Draw:\", deck.return_draw_score())\n",
    "        elif winner == \"D\" or winner == \"d\":\n",
    "                deck.inc_draw_score()\n",
    "                print(\"A:\", deck.return_a_score(), \"B:\", deck.return_b_score(), \"Draw:\", deck.return_draw_score())\n",
    "        else:\n",
    "            # Ask again if the input is unsuitable\n",
    "            print (\"Input must be A-a, B-b, or D-d\")\n",
    "            show_score(deck)\n",
    "        \n",
    "# Get a random number            \n",
    "def randomizer():\n",
    "        # Number between 1 and 57\n",
    "    card = random.randint(1,57)\n",
    "    return card\n"
   ]
  },
  {
   "cell_type": "markdown",
   "metadata": {},
   "source": [
    "### Control of the game takes place in the start_game function, which first checks the validity of the deck, and if it is valid, an instance of DobbleDeck is created, and the add_card method is called. Then, while there are more than 2 cards, the play_card, show_score, and remove_card methods are called. When this condition is no longer true, the score is printed."
   ]
  },
  {
   "cell_type": "code",
   "execution_count": null,
   "metadata": {},
   "outputs": [],
   "source": [
    "def start_game():\n",
    "    # Check deck is valid\n",
    "    if check_validity(mydeck):\n",
    "        myDobbleD = DobbleDeck()\n",
    "        myDobbleD.add_card()\n",
    "        # Play the game whilst there are 2 or more cards \n",
    "        while(myDobbleD.cards_left() >= 2):\n",
    "            myDobbleD.play_card()\n",
    "            show_score(myDobbleD)\n",
    "            myDobbleD.remove_card()\n",
    "        \n",
    "        # When there are less than 2 cards, we can't continue. Print score.\n",
    "        print(\"You are out of cards! Thanks for playing!\")\n",
    "        if myDobbleD.return_a_score() > myDobbleD.return_b_score():\n",
    "            print(\"A wins with a score of:\", myDobbleD.return_a_score())\n",
    "        elif myDobbleD.return_a_score() < myDobbleD.return_b_score():\n",
    "            print(\"B wins with a score of:\", myDobbleD.return_b_score())\n",
    "        else:\n",
    "            print(\"It's a draw!\")\n",
    "    else:\n",
    "        print(\"The deck isn't valid to play the game!\")"
   ]
  },
  {
   "cell_type": "markdown",
   "metadata": {},
   "source": [
    "### Time to play!"
   ]
  },
  {
   "cell_type": "code",
   "execution_count": null,
   "metadata": {
    "scrolled": true
   },
   "outputs": [],
   "source": [
    "start_game()"
   ]
  },
  {
   "cell_type": "code",
   "execution_count": null,
   "metadata": {},
   "outputs": [],
   "source": []
  },
  {
   "cell_type": "code",
   "execution_count": null,
   "metadata": {},
   "outputs": [],
   "source": []
  },
  {
   "cell_type": "code",
   "execution_count": null,
   "metadata": {},
   "outputs": [],
   "source": []
  },
  {
   "cell_type": "code",
   "execution_count": null,
   "metadata": {},
   "outputs": [],
   "source": []
  },
  {
   "cell_type": "code",
   "execution_count": null,
   "metadata": {},
   "outputs": [],
   "source": []
  },
  {
   "cell_type": "code",
   "execution_count": null,
   "metadata": {},
   "outputs": [],
   "source": []
  },
  {
   "cell_type": "code",
   "execution_count": null,
   "metadata": {},
   "outputs": [],
   "source": []
  },
  {
   "cell_type": "code",
   "execution_count": null,
   "metadata": {},
   "outputs": [],
   "source": []
  },
  {
   "cell_type": "code",
   "execution_count": null,
   "metadata": {},
   "outputs": [],
   "source": []
  },
  {
   "cell_type": "code",
   "execution_count": null,
   "metadata": {},
   "outputs": [],
   "source": []
  },
  {
   "cell_type": "code",
   "execution_count": null,
   "metadata": {},
   "outputs": [],
   "source": []
  },
  {
   "cell_type": "code",
   "execution_count": null,
   "metadata": {},
   "outputs": [],
   "source": []
  },
  {
   "cell_type": "code",
   "execution_count": null,
   "metadata": {},
   "outputs": [],
   "source": [
    "\n",
    "    \n",
    "    "
   ]
  },
  {
   "cell_type": "code",
   "execution_count": null,
   "metadata": {},
   "outputs": [],
   "source": []
  }
 ],
 "metadata": {
  "kernelspec": {
   "display_name": "Python 3",
   "language": "python",
   "name": "python3"
  },
  "language_info": {
   "codemirror_mode": {
    "name": "ipython",
    "version": 3
   },
   "file_extension": ".py",
   "mimetype": "text/x-python",
   "name": "python",
   "nbconvert_exporter": "python",
   "pygments_lexer": "ipython3",
   "version": "3.7.0"
  }
 },
 "nbformat": 4,
 "nbformat_minor": 1
}
